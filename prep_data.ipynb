{
 "cells": [
  {
   "cell_type": "code",
   "execution_count": 27,
   "metadata": {
    "collapsed": true
   },
   "outputs": [],
   "source": [
    "from os import listdir\n",
    "from os.path import join as pjoin\n",
    "from os import makedirs\n",
    "from os.path import exists\n",
    "from os.path import isdir\n",
    "from os.path import isfile\n",
    "from shutil import copy\n",
    "from shutil import move\n",
    "from collections import defaultdict\n",
    "\n",
    "import numpy as np"
   ]
  },
  {
   "cell_type": "code",
   "execution_count": 3,
   "metadata": {
    "collapsed": true
   },
   "outputs": [],
   "source": [
    "paths = {\"data\": \"data\"}\n",
    "\n",
    "paths[\"train\"] = pjoin(paths[\"data\"], \"train\")\n",
    "paths[\"valid\"] = pjoin(paths[\"data\"], \"valid\")\n",
    "paths[\"test\"] = pjoin(paths[\"data\"], \"test\")\n",
    "\n",
    "paths[\"sample\"] = pjoin(paths[\"data\"], \"sample\")\n",
    "paths[\"sample/train\"] = pjoin(paths[\"sample\"], \"train\")\n",
    "paths[\"sample/valid\"] = pjoin(paths[\"sample\"],\"valid\")\n",
    "\n",
    "# Make the dirs\n",
    "for p in paths.values():\n",
    "    makedirs(p, exist_ok=True)\n",
    "    \n",
    "class_paths = defaultdict(dict)\n",
    "for clss in [\"cat\", \"dog\"]:\n",
    "    for folder in [\"train\", \"valid\", \"sample/train\", \"sample/valid\"]:\n",
    "        class_paths[folder][clss] = pjoin(paths[folder], clss)\n",
    "        makedirs(class_paths[folder][clss], exist_ok=True)"
   ]
  },
  {
   "cell_type": "code",
   "execution_count": 10,
   "metadata": {
    "collapsed": true
   },
   "outputs": [],
   "source": [
    "train_test_split = 0.2\n",
    "sample_size = 200"
   ]
  },
  {
   "cell_type": "code",
   "execution_count": 41,
   "metadata": {
    "collapsed": true
   },
   "outputs": [],
   "source": [
    "files = [f for f in listdir(paths[\"train\"]) if f.endswith(\".jpg\")]"
   ]
  },
  {
   "cell_type": "code",
   "execution_count": 16,
   "metadata": {
    "collapsed": true
   },
   "outputs": [],
   "source": [
    "sample_files = np.random.choice(files, size=sample_size, replace=False)\n",
    "for f in sample_files:\n",
    "    copy(\n",
    "        src=pjoin(paths[\"train\"], f),\n",
    "        dst=pjoin(paths[\"sample/train\"], f)\n",
    "        )"
   ]
  },
  {
   "cell_type": "code",
   "execution_count": 43,
   "metadata": {
    "collapsed": true
   },
   "outputs": [],
   "source": [
    "for i, f in enumerate(np.random.permutation(files)):\n",
    "    if i < len(files) * 0.2:\n",
    "        target = \"valid\"\n",
    "    else:\n",
    "        target = \"train\"\n",
    "\n",
    "    clss = f.split(\".\")[0]\n",
    "    move(pjoin(paths[\"train\"], f), pjoin(class_paths[target][clss], f))"
   ]
  },
  {
   "cell_type": "code",
   "execution_count": 47,
   "metadata": {
    "collapsed": true
   },
   "outputs": [],
   "source": [
    "files = [f for f in listdir(paths[\"sample/train\"]) if f.endswith(\".jpg\")]\n",
    "for i, f in enumerate(np.random.permutation(files)):\n",
    "    if i < len(files) * 0.2:\n",
    "        target = \"sample/valid\"\n",
    "    else:\n",
    "        target = \"sample/train\"\n",
    "\n",
    "    clss = f.split(\".\")[0]\n",
    "    move(pjoin(paths[\"sample/train\"], f), pjoin(class_paths[target][clss], f))"
   ]
  },
  {
   "cell_type": "code",
   "execution_count": 54,
   "metadata": {
    "collapsed": true
   },
   "outputs": [],
   "source": [
    "makedirs(\"data/test/unknown\", exist_ok=True)\n",
    "for f in [f for f in listdir(\"data/test\") if f.endswith(\".jpg\")]:\n",
    "    move(pjoin(\"data/test\", f), pjoin(\"data/test/unknown\", f))"
   ]
  },
  {
   "cell_type": "code",
   "execution_count": 55,
   "metadata": {
    "collapsed": true
   },
   "outputs": [],
   "source": [
    "import json"
   ]
  },
  {
   "cell_type": "code",
   "execution_count": 57,
   "metadata": {},
   "outputs": [],
   "source": [
    "with open(\"data/paths.json\", \"w\") as handle:\n",
    "    json.dump(paths, handle)"
   ]
  },
  {
   "cell_type": "code",
   "execution_count": null,
   "metadata": {
    "collapsed": true
   },
   "outputs": [],
   "source": []
  }
 ],
 "metadata": {
  "kernelspec": {
   "display_name": "Python 3",
   "language": "python",
   "name": "python3"
  },
  "language_info": {
   "codemirror_mode": {
    "name": "ipython",
    "version": 3
   },
   "file_extension": ".py",
   "mimetype": "text/x-python",
   "name": "python",
   "nbconvert_exporter": "python",
   "pygments_lexer": "ipython3",
   "version": "3.5.3"
  }
 },
 "nbformat": 4,
 "nbformat_minor": 2
}
